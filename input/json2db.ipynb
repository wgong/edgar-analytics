{
 "cells": [
  {
   "cell_type": "code",
   "execution_count": 1,
   "metadata": {},
   "outputs": [
    {
     "name": "stderr",
     "output_type": "stream",
     "text": [
      "/home/devopsgong/anaconda3/lib/python3.6/site-packages/psycopg2/__init__.py:144: UserWarning: The psycopg2 wheel package will be renamed from release 2.8; in order to keep installing from binary please use \"pip install psycopg2-binary\" instead. For details see: <http://initd.org/psycopg/docs/install.html#binary-install-from-pypi>.\n",
      "  \"\"\")\n"
     ]
    }
   ],
   "source": [
    "import os\n",
    "import json\n",
    "import psycopg2"
   ]
  },
  {
   "cell_type": "code",
   "execution_count": 2,
   "metadata": {},
   "outputs": [
    {
     "name": "stdout",
     "output_type": "stream",
     "text": [
      "2017-11-10.json  batch_size.config  json2db.ipynb  README.md  test1.json\r\n"
     ]
    }
   ],
   "source": [
    "!ls"
   ]
  },
  {
   "cell_type": "code",
   "execution_count": 3,
   "metadata": {},
   "outputs": [],
   "source": [
    "# config params\n",
    "file_in = 'test1.json'\n",
    "\n",
    "db_host = os.environ.get('AWS_PG_DB_HOST')\n",
    "db_name = os.environ.get('AWS_PG_DB_NAME')\n",
    "db_user = os.environ.get('AWS_PG_DB_USER')\n",
    "password = os.environ.get('AWS_PG_DB_PASS')\n",
    "schema_name = 'public'\n",
    "\n",
    "# table to Json obj\n",
    "mapTable2JsonObj = {'dm_orders':'orders', 'dm_line_items':'line_items'}"
   ]
  },
  {
   "cell_type": "code",
   "execution_count": 7,
   "metadata": {},
   "outputs": [],
   "source": [
    "with open(file_in) as f:\n",
    "    s = f.read()"
   ]
  },
  {
   "cell_type": "code",
   "execution_count": 8,
   "metadata": {},
   "outputs": [],
   "source": [
    "dic = json.loads(s)"
   ]
  },
  {
   "cell_type": "code",
   "execution_count": 9,
   "metadata": {},
   "outputs": [
    {
     "data": {
      "text/plain": [
       "{'orders': [{'id': 11748933635,\n",
       "   'email': 'censored@censored.com',\n",
       "   'closed_at': None,\n",
       "   'created_at': '2017-10-30T19:58:29-04:00',\n",
       "   'updated_at': '2017-10-30T19:59:30-04:00',\n",
       "   'number': 97171,\n",
       "   'note': None,\n",
       "   'token': 'censored',\n",
       "   'gateway': 'cash',\n",
       "   'test': False,\n",
       "   'total_price': '130.64999999999998',\n",
       "   'subtotal_price': '120.0',\n",
       "   'total_weight': 6,\n",
       "   'total_tax': '10.649999999999999',\n",
       "   'taxes_included': False,\n",
       "   'currency': 'USD',\n",
       "   'financial_status': 'paid',\n",
       "   'confirmed': True,\n",
       "   'total_discounts': '0.00',\n",
       "   'total_line_items_price': '120.0',\n",
       "   'cart_token': 'censored',\n",
       "   'buyer_accepts_marketing': False,\n",
       "   'name': 'GLO37-2010000000',\n",
       "   'referring_site': None,\n",
       "   'landing_site': None,\n",
       "   'cancelled_at': None,\n",
       "   'cancel_reason': None,\n",
       "   'total_price_usd': '130.64999999999998',\n",
       "   'checkout_token': 'censored',\n",
       "   'reference': '9925E904-4A8D-4520-9F2F-46B847BDE46D',\n",
       "   'user_id': 110585347,\n",
       "   'location_id': 371291,\n",
       "   'source_identifier': '371291-37-20100',\n",
       "   'source_url': None,\n",
       "   'processed_at': '2017-10-30T19:58:28-04:00',\n",
       "   'device_id': 37,\n",
       "   'phone': '555-555-5555',\n",
       "   'customer_locale': None,\n",
       "   'app_id': 129785,\n",
       "   'browser_ip': '127.0.0.1',\n",
       "   'landing_site_ref': None,\n",
       "   'order_number': 98171,\n",
       "   'processing_method': '',\n",
       "   'checkout_id': None,\n",
       "   'source_name': 'pos',\n",
       "   'fulfillment_status': 'fulfilled',\n",
       "   'tags': '',\n",
       "   'contact_email': 'censored@censored.com',\n",
       "   'order_status_url': 'https://checkout.shopify.com/censored',\n",
       "   'line_items': [{'id': 23495245827,\n",
       "     'variant_id': 36499702851,\n",
       "     'quantity': 1,\n",
       "     'product_id': 9096535107}],\n",
       "   'total_discount': None},\n",
       "  {'id': 11740708867,\n",
       "   'email': 'censored@censored.com',\n",
       "   'closed_at': None,\n",
       "   'created_at': '2017-10-30T19:50:35-04:00',\n",
       "   'updated_at': '2017-10-30T19:50:55-04:00',\n",
       "   'number': 97170,\n",
       "   'note': None,\n",
       "   'token': 'censored',\n",
       "   'gateway': 'shopify_payments',\n",
       "   'test': False,\n",
       "   'total_price': '52.260000000000005',\n",
       "   'subtotal_price': '48.0',\n",
       "   'total_weight': 1,\n",
       "   'total_tax': '4.26',\n",
       "   'taxes_included': False,\n",
       "   'currency': 'USD',\n",
       "   'financial_status': 'paid',\n",
       "   'confirmed': True,\n",
       "   'total_discounts': '0.00',\n",
       "   'total_line_items_price': '48.0',\n",
       "   'cart_token': 'censored',\n",
       "   'buyer_accepts_marketing': False,\n",
       "   'name': 'GLO37-2009900000',\n",
       "   'referring_site': None,\n",
       "   'landing_site': None,\n",
       "   'cancelled_at': None,\n",
       "   'cancel_reason': None,\n",
       "   'total_price_usd': '52.260000000000005',\n",
       "   'checkout_token': 'censored',\n",
       "   'reference': None,\n",
       "   'user_id': 110585347,\n",
       "   'location_id': 371291,\n",
       "   'source_identifier': '371291-37-20099',\n",
       "   'source_url': None,\n",
       "   'processed_at': '2017-10-30T19:50:35-04:00',\n",
       "   'device_id': 37,\n",
       "   'phone': '555-555-5555',\n",
       "   'customer_locale': None,\n",
       "   'app_id': 129785,\n",
       "   'browser_ip': '127.0.0.1',\n",
       "   'landing_site_ref': None,\n",
       "   'order_number': 98170,\n",
       "   'processing_method': 'direct',\n",
       "   'checkout_id': 29547134979,\n",
       "   'source_name': 'pos',\n",
       "   'fulfillment_status': 'fulfilled',\n",
       "   'tags': '',\n",
       "   'contact_email': 'censored@censored.com',\n",
       "   'order_status_url': 'https://checkout.shopify.com/censored',\n",
       "   'line_items': [{'id': 23477125123,\n",
       "     'variant_id': 31894081731,\n",
       "     'quantity': 1,\n",
       "     'product_id': 9086876675}],\n",
       "   'total_discount': None}]}"
      ]
     },
     "execution_count": 9,
     "metadata": {},
     "output_type": "execute_result"
    }
   ],
   "source": [
    "dic"
   ]
  },
  {
   "cell_type": "code",
   "execution_count": 10,
   "metadata": {},
   "outputs": [
    {
     "data": {
      "text/plain": [
       "2"
      ]
     },
     "execution_count": 10,
     "metadata": {},
     "output_type": "execute_result"
    }
   ],
   "source": [
    "len(dic[mapTable2JsonObj['dm_orders']])"
   ]
  },
  {
   "cell_type": "code",
   "execution_count": 11,
   "metadata": {},
   "outputs": [],
   "source": [
    "i_orders = 0  \n",
    "# get order fields\n",
    "order_id = dic[mapTable2JsonObj['dm_orders']][i_orders]['id']"
   ]
  },
  {
   "cell_type": "code",
   "execution_count": 13,
   "metadata": {},
   "outputs": [
    {
     "data": {
      "text/plain": [
       "[{'id': 23495245827,\n",
       "  'variant_id': 36499702851,\n",
       "  'quantity': 1,\n",
       "  'product_id': 9096535107}]"
      ]
     },
     "execution_count": 13,
     "metadata": {},
     "output_type": "execute_result"
    }
   ],
   "source": [
    "# get line_itesm\n",
    "dic[mapTable2JsonObj['dm_orders']][i_orders][mapTable2JsonObj['dm_line_items']]"
   ]
  },
  {
   "cell_type": "code",
   "execution_count": 14,
   "metadata": {},
   "outputs": [],
   "source": [
    "# connect to PostgreSQL\n",
    "db_connection_string = f\"dbname='{db_name}' user='{db_user}' host='{db_host}' password='{password}'\"\n",
    "connection = psycopg2.connect(db_connection_string)\n",
    "cur = connection.cursor()"
   ]
  },
  {
   "cell_type": "code",
   "execution_count": null,
   "metadata": {},
   "outputs": [],
   "source": []
  },
  {
   "cell_type": "markdown",
   "metadata": {},
   "source": [
    "work on table - `dm_line_items`"
   ]
  },
  {
   "cell_type": "code",
   "execution_count": 15,
   "metadata": {},
   "outputs": [],
   "source": [
    "\n",
    "tbl_name = 'dm_line_items'"
   ]
  },
  {
   "cell_type": "code",
   "execution_count": 16,
   "metadata": {},
   "outputs": [],
   "source": [
    "sql_coldef = f\"\"\"\n",
    "    SELECT sc.table_name, sc.column_name, sc.data_type\n",
    "    FROM information_schema.columns sc\n",
    "    WHERE table_schema = '{schema_name}'\n",
    "      AND table_name = '{tbl_name}'\n",
    "      order by table_name,ordinal_position;\n",
    "\"\"\""
   ]
  },
  {
   "cell_type": "code",
   "execution_count": 17,
   "metadata": {},
   "outputs": [],
   "source": [
    "cur.execute(sql_coldef)\n",
    "col_defs = cur.fetchall()"
   ]
  },
  {
   "cell_type": "code",
   "execution_count": 18,
   "metadata": {},
   "outputs": [
    {
     "data": {
      "text/plain": [
       "[('dm_line_items', 'id', 'bigint'),\n",
       " ('dm_line_items', 'order_id', 'bigint'),\n",
       " ('dm_line_items', 'variant_id', 'bigint'),\n",
       " ('dm_line_items', 'quantity', 'integer'),\n",
       " ('dm_line_items', 'product_id', 'bigint')]"
      ]
     },
     "execution_count": 18,
     "metadata": {},
     "output_type": "execute_result"
    }
   ],
   "source": [
    "col_defs"
   ]
  },
  {
   "cell_type": "code",
   "execution_count": 19,
   "metadata": {},
   "outputs": [
    {
     "data": {
      "text/plain": [
       "[('id', 'bigint'),\n",
       " ('order_id', 'bigint'),\n",
       " ('variant_id', 'bigint'),\n",
       " ('quantity', 'integer'),\n",
       " ('product_id', 'bigint')]"
      ]
     },
     "execution_count": 19,
     "metadata": {},
     "output_type": "execute_result"
    }
   ],
   "source": [
    "# get column info\n",
    "col_list = [(col[1],col[2]) for col in col_defs]\n",
    "\n",
    "col_list"
   ]
  },
  {
   "cell_type": "code",
   "execution_count": 20,
   "metadata": {},
   "outputs": [],
   "source": [
    "# build SQL insert\n",
    "col_list_str = \",\".join([f\"\\\"{c[0]}\\\"\"  for c in col_list])"
   ]
  },
  {
   "cell_type": "code",
   "execution_count": 22,
   "metadata": {},
   "outputs": [],
   "source": [
    "i_line_items = 0\n",
    "val_list_str = \"\"\n",
    "iv = 0\n",
    "for c in col_list:\n",
    "    col_name, col_type = c[0], c[1]\n",
    "    if col_name == 'order_id':\n",
    "        val = order_id\n",
    "    else:\n",
    "        val = dic[mapTable2JsonObj['dm_orders']][i_orders][mapTable2JsonObj['dm_line_items']][i_line_items][col_name]\n",
    "    if val is None:\n",
    "        val = \"NULL\"\n",
    "    else:\n",
    "        if \"character\" in col_type or \"text\" in col_type or \"timestamp\" in col_type:\n",
    "            val = f\"'{val}'\"\n",
    "        elif \"boolean\" in col_type:\n",
    "            if val:\n",
    "                val = \"CAST( 1 AS BOOLEAN )\"\n",
    "            else:\n",
    "                val = \"CAST( 0 AS BOOLEAN )\"\n",
    "        else:\n",
    "            val = f\"{val}\"\n",
    "\n",
    "    if iv:\n",
    "        val_list_str += ',' + val\n",
    "    else:\n",
    "        val_list_str += val\n",
    "        \n",
    "    iv += 1"
   ]
  },
  {
   "cell_type": "code",
   "execution_count": 23,
   "metadata": {},
   "outputs": [
    {
     "data": {
      "text/plain": [
       "'\\n    INSERT INTO \"dm_line_items\" (\"id\",\"order_id\",\"variant_id\",\"quantity\",\"product_id\")\\n    VALUES (23495245827,11748933635,36499702851,1,9096535107);\\n'"
      ]
     },
     "execution_count": 23,
     "metadata": {},
     "output_type": "execute_result"
    }
   ],
   "source": [
    "sql_insert = f\"\"\"\n",
    "    INSERT INTO \\\"{tbl_name}\\\" ({col_list_str})\n",
    "    VALUES ({val_list_str});\n",
    "\"\"\" \n",
    "sql_insert"
   ]
  },
  {
   "cell_type": "code",
   "execution_count": 24,
   "metadata": {},
   "outputs": [],
   "source": [
    "cur.execute(sql_insert)\n",
    "\n",
    "connection.commit()  # write to db"
   ]
  },
  {
   "cell_type": "code",
   "execution_count": 26,
   "metadata": {},
   "outputs": [
    {
     "data": {
      "text/plain": [
       "'\\n    SELECT \"id\",\"order_id\",\"variant_id\",\"quantity\",\"product_id\" FROM \"dm_line_items\";\\n'"
      ]
     },
     "execution_count": 26,
     "metadata": {},
     "output_type": "execute_result"
    }
   ],
   "source": [
    "# build SQL select\n",
    "col_list_str = \",\".join([f\"\\\"{c[0]}\\\"\"  for c in col_list])\n",
    "sql_select = f\"\"\"\n",
    "    SELECT {col_list_str} FROM \\\"{tbl_name}\\\";\n",
    "\"\"\" \n",
    "sql_select"
   ]
  },
  {
   "cell_type": "code",
   "execution_count": 27,
   "metadata": {},
   "outputs": [],
   "source": [
    "cur.execute(sql_select)\n",
    "rows = cur.fetchall()"
   ]
  },
  {
   "cell_type": "code",
   "execution_count": 28,
   "metadata": {},
   "outputs": [
    {
     "data": {
      "text/plain": [
       "[(23495245827, 11748933635, 36499702851, 1, 9096535107),\n",
       " (23495245827, 11748933635, 36499702851, 1, 9096535107)]"
      ]
     },
     "execution_count": 28,
     "metadata": {},
     "output_type": "execute_result"
    }
   ],
   "source": [
    "rows"
   ]
  },
  {
   "cell_type": "code",
   "execution_count": 29,
   "metadata": {},
   "outputs": [],
   "source": [
    "# cleanup\n",
    "sql_delete = f\"\"\"\n",
    "    DELETE FROM \\\"{tbl_name}\\\";\n",
    "\"\"\" \n",
    "sql_delete\n",
    "\n",
    "cur.execute(sql_delete)\n",
    "connection.commit()"
   ]
  },
  {
   "cell_type": "code",
   "execution_count": 30,
   "metadata": {},
   "outputs": [
    {
     "name": "stdout",
     "output_type": "stream",
     "text": [
      "/home/devopsgong/projects/insight_ds/coding_challenges/data_migration/input\r\n"
     ]
    }
   ],
   "source": [
    "!pwd"
   ]
  },
  {
   "cell_type": "code",
   "execution_count": null,
   "metadata": {},
   "outputs": [],
   "source": []
  },
  {
   "cell_type": "code",
   "execution_count": null,
   "metadata": {},
   "outputs": [],
   "source": []
  },
  {
   "cell_type": "code",
   "execution_count": null,
   "metadata": {},
   "outputs": [],
   "source": [
    "connection.close()"
   ]
  }
 ],
 "metadata": {
  "kernelspec": {
   "display_name": "Python 3",
   "language": "python",
   "name": "python3"
  },
  "language_info": {
   "codemirror_mode": {
    "name": "ipython",
    "version": 3
   },
   "file_extension": ".py",
   "mimetype": "text/x-python",
   "name": "python",
   "nbconvert_exporter": "python",
   "pygments_lexer": "ipython3",
   "version": "3.6.5"
  }
 },
 "nbformat": 4,
 "nbformat_minor": 2
}
